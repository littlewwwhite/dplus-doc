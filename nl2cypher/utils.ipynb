{
 "cells": [
  {
   "cell_type": "code",
   "execution_count": 6,
   "metadata": {},
   "outputs": [
    {
     "name": "stdout",
     "output_type": "stream",
     "text": [
      "['肺泡蛋白质沉积症', '百日咳', '苯中毒', '喘息样支气管炎', '成人呼吸窘迫综合征', '大量羊水吸入', '单纯性肺嗜酸粒细胞浸润症', '大叶性肺炎', '大楼病综合征', '二硫化碳中毒', '肺-胸膜阿米巴病', '肺出血－肾炎综合征', '肺放线菌病', '肺泡蛋白沉着症', '肺曲菌病', '放射性肺炎', '肺念珠菌病', '肺大疱', '肺炎球菌肺炎', '肺气肿', '肺炎杆菌肺炎']\n"
     ]
    }
   ],
   "source": [
    "# 取出csv文件的某一列保存到字典中\n",
    "import csv\n",
    "\n",
    "medical_data = \"疾病名称,疾病描述,疾病种类,科室,病因,症状,检查,并发症,花费,疗程,疗法,治愈率,易感人群,感染概率,感染途径,预防措施,推荐药物,常用药物,具体药物,可以吃,不可以吃,推荐吃,是否纳入医保\"\n",
    "\n",
    "with open('/Users/dingzhijian/VSCode/dplus-doc/nl2cypher/Medical Data.csv', 'r') as f:\n",
    "    reader = csv.DictReader(f)\n",
    "    list = []\n",
    "    # 取出第一列数据\n",
    "    for row in reader:\n",
    "        list.append(row['疾病名称'])\n",
    "\n",
    "    print(list)"
   ]
  }
 ],
 "metadata": {
  "kernelspec": {
   "display_name": "test",
   "language": "python",
   "name": "python3"
  },
  "language_info": {
   "codemirror_mode": {
    "name": "ipython",
    "version": 3
   },
   "file_extension": ".py",
   "mimetype": "text/x-python",
   "name": "python",
   "nbconvert_exporter": "python",
   "pygments_lexer": "ipython3",
   "version": "3.8.16"
  }
 },
 "nbformat": 4,
 "nbformat_minor": 2
}
