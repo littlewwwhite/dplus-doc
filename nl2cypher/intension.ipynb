{
 "cells": [
  {
   "cell_type": "markdown",
   "metadata": {},
   "source": [
    "## 首先判断是否是相关内容\n",
    "    方法1：模型判断\n",
    "    *方法2: 构建FAQ向量库做判断\n"
   ]
  },
  {
   "cell_type": "code",
   "execution_count": null,
   "metadata": {
    "vscode": {
     "languageId": "plaintext"
    }
   },
   "outputs": [],
   "source": [
    "# 通过prompt来让模型选择\n"
   ]
  }
 ],
 "metadata": {
  "language_info": {
   "name": "python"
  }
 },
 "nbformat": 4,
 "nbformat_minor": 2
}
